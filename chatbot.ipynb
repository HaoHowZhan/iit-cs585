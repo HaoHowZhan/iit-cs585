{
  "nbformat": 4,
  "nbformat_minor": 0,
  "metadata": {
    "colab": {
      "provenance": [],
      "include_colab_link": true
    },
    "kernelspec": {
      "display_name": "Python 3",
      "name": "python3"
    },
    "language_info": {
      "name": "python"
    }
  },
  "cells": [
    {
      "cell_type": "markdown",
      "metadata": {
        "id": "view-in-github",
        "colab_type": "text"
      },
      "source": [
        "<a href=\"https://colab.research.google.com/github/HaoHowZhan/iit-cs585/blob/master/chatbot.ipynb\" target=\"_parent\"><img src=\"https://colab.research.google.com/assets/colab-badge.svg\" alt=\"Open In Colab\"/></a>"
      ]
    },
    {
      "cell_type": "markdown",
      "source": [
        "## Practice Assignment: Chatbots\n",
        "\n",
        "#### Hao Zhan 10/7/2023\n"
      ],
      "metadata": {
        "id": "gtru08eJ2gGq"
      }
    },
    {
      "cell_type": "markdown",
      "source": [
        "Design a Chatbot"
      ],
      "metadata": {
        "id": "wSUSyTS62gLY"
      }
    },
    {
      "cell_type": "markdown",
      "source": [
        "## What task would your chatbot be trained to do?\n",
        "\n",
        "I want to train a chatbot to do some very easy human resource task, for questions about benefits, time off, reimbrusement etc. sometimes, it takes so long to get feedback for very easy problems.\n",
        "\n",
        "## What questions/inputs could it handle?\n",
        "\n",
        "#### Define the intents for your chatbots.\n",
        "\n",
        "#### Define the entities for your chatbots.\n",
        "\n",
        "A chatbot trained for human resource daily questions would be able to answer a wide range of questions from employees, such as:\n",
        "\n",
        "- Benefits and compensation: Questions about health insurance, retirement plans, paychecks, and other benefits and compensation-related topics.\n",
        "\n",
        "- Company policies and procedures: Questions about vacation policies, sick leave, dress code, and other company policies and procedures.\n",
        "\n",
        "- Time and attendance: Questions about how to clock in and out, how to request time off, and how to view pay stubs.\n",
        "\n",
        "- Performance and development: Questions about performance reviews, training and development opportunities, and career paths.\n",
        "\n",
        "- General HR questions: Questions about the company culture, employee handbook, and other general HR topics.\n",
        "\n",
        "The chatbot could also be used to collect feedback from employees, provide support during onboarding and offboarding, and automate certain HR tasks, such as processing time off requests and sending out performance reviews.\n",
        "\n",
        "**Here are some examples of daily questions that a human resources chatbot could handle:**\n",
        "\n",
        "- What is the company's vacation policy?\n",
        "\n",
        "- How do I request sick leave?\n",
        "\n",
        "- How do I change my health insurance beneficiary?\n",
        "\n",
        "- When is the next performance review cycle?\n",
        "\n",
        "- What training and development opportunities are available to me?\n",
        "\n",
        "- How do I update my personal information in the employee directory?\n",
        "\n",
        "- I'm having trouble resetting my password for the company portal.\n",
        "\n",
        "- I'm not sure how to use the new time tracking system.\n",
        "\n",
        "- I have a question about my 401(k) plan.\n",
        "\n",
        "- I'm not happy with my manager's performance.\n",
        "\n",
        "- I'm thinking about leaving the company.\n",
        "\n",
        "Human resources chatbots can be a valuable tool for both employees and HR professionals. They can help employees to get the information and support they need quickly and easily, and they can free up HR professionals to focus on more strategic tasks."
      ],
      "metadata": {
        "id": "5DiNzdRo2gOX"
      }
    },
    {
      "cell_type": "markdown",
      "source": [
        "### Define 15 training phrases for your chatbots.\n",
        "\n",
        "Here are 15 training phrases for an HR chatbot that handles daily questions:\n",
        "\n",
        "-  What is the company's vacation policy?\n",
        "-  How do I request sick leave?\n",
        "-  How do I change my health insurance beneficiary?\n",
        "-  When is the next performance review cycle?\n",
        "-  What training and development opportunities are available to me?\n",
        "-  How do I update my personal information in the employee directory?\n",
        "-  I'm having trouble resetting my password for the company portal.\n",
        "-  I'm not sure how to use the new time tracking system.\n",
        "-  I have a question about my 401(k) plan.\n",
        "-  I'm not happy with my manager's performance.\n",
        "-  I'm thinking about leaving the company.\n",
        "-  What are the company's benefits and compensation policies?\n",
        "-  What are the company's dress code and other policies?\n",
        "-  How do I submit a timesheet?\n",
        "-  How do I request a raise?\n",
        "-  What are the company's career development opportunities?\n",
        "-  Who is my HR manager?"
      ],
      "metadata": {
        "id": "g69hbS6K2gRO"
      }
    },
    {
      "cell_type": "markdown",
      "source": [
        "### Define how the output would be generated and give 3 examples of responses from your chatbot."
      ],
      "metadata": {
        "id": "MxcRMr_h2gUX"
      }
    },
    {
      "cell_type": "markdown",
      "source": [
        "### User: What is the company's vacation policy?\n",
        "\n",
        "Chatbot: The company's vacation policy is as follows:\n",
        "\n",
        "All full-time employees are eligible for 2 weeks of vacation per year.\n",
        "Vacation time can be accrued at a rate of 1 day per month.\n",
        "Vacation time can be taken in increments of 1 day or more.\n",
        "Employees must request vacation time in advance.\n",
        "Vacation time is not paid out if it is not used.\n",
        "\n",
        "\n",
        "### User: How do I request sick leave?\n",
        "\n",
        "Chatbot: To request sick leave, you must complete a time off request form. The form can be found on the company intranet. Once you have completed the form, you must submit it to your manager for approval.\n",
        "\n",
        "### User: I'm not happy with my manager's performance. What should I do?\n",
        "\n",
        "Chatbot: If you are not happy with your manager's performance, you should first try to talk to them directly about your concerns. If you are still not satisfied with the outcome of the conversation, you can escalate the issue to your HR manager."
      ],
      "metadata": {
        "id": "nPilYASU2gW_"
      }
    },
    {
      "cell_type": "markdown",
      "source": [],
      "metadata": {
        "id": "tJbJOrcH2gZ9"
      }
    },
    {
      "cell_type": "markdown",
      "source": [],
      "metadata": {
        "id": "1CFMWcSC2gcv"
      }
    }
  ]
}